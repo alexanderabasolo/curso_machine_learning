{
 "cells": [
  {
   "cell_type": "markdown",
   "id": "df496623",
   "metadata": {},
   "source": [
    "# Proyecto fin de Formación Ciencia de Datos para Analistas de Negocio"
   ]
  },
  {
   "attachments": {
    "sumamoos-2020-marca.png": {
     "image/png": "[encoded data removed]"
    }
   },
   "cell_type": "markdown",
   "id": "70d21430",
   "metadata": {},
   "source": [
    "![sumamoos-2020-marca.png](attachment:sumamoos-2020-marca.png)"
   ]
  },
  {
   "cell_type": "markdown",
   "id": "6f46c181",
   "metadata": {},
   "source": [
    "### Curso Octubre 2024 - Enero 2025"
   ]
  },
  {
   "cell_type": "markdown",
   "id": "5cd45aaf",
   "metadata": {},
   "source": [
    "# Proyecto: Predicción de demanda"
   ]
  },
  {
   "cell_type": "markdown",
   "id": "25a44bd0",
   "metadata": {},
   "source": [
    "## Autor: Alexander Abasolo"
   ]
  },
  {
   "cell_type": "markdown",
   "id": "414de565",
   "metadata": {},
   "source": [
    "### Descripción del proyecto"
   ]
  },
  {
   "cell_type": "markdown",
   "id": "9662196a",
   "metadata": {},
   "source": [
    "Este proyecto consiste en realizar la predicción de las ventas de la empresa en la que trabajo que se dedica a la fabricación de tuberías y accesorios de plásticos como PVC, PE, entre otros. Esto servirá para poder hacer un seguimiento más cercano de las ventas que derive en poder adelantarnos a movimientos del mercado y la optimización del stock a un nivel jerarquíco de las ventas (nivel clasificación familia). Los tipos de datos a los que accedemos son los siguientes: la fecha del pedido, la familia de clasificación, artículo, importe en euros, unidades y el peso del propio artículo."
   ]
  },
  {
   "cell_type": "markdown",
   "id": "81d61c92",
   "metadata": {},
   "source": [
    "### Conclusiones de su proyecto"
   ]
  },
  {
   "cell_type": "markdown",
   "id": "d7cf0f46",
   "metadata": {},
   "source": [
    "(Describa las conclusiones de su proyecto)\n",
    "Cuál es el resultado final de su proyecto, qué ha conseguido, cómo agrega valor a su empresa / cliente / organización "
   ]
  },
  {
   "cell_type": "markdown",
   "id": "3216f488",
   "metadata": {},
   "source": [
    "## Análisis Exploratorio de datos"
   ]
  },
  {
   "cell_type": "code",
   "execution_count": null,
   "id": "8ea37973",
   "metadata": {},
   "outputs": [],
   "source": [
    "# importar paquetes"
   ]
  },
  {
   "cell_type": "code",
   "execution_count": null,
   "id": "786c8114",
   "metadata": {},
   "outputs": [],
   "source": [
    "# importar datos"
   ]
  },
  {
   "cell_type": "code",
   "execution_count": null,
   "id": "cb98a859",
   "metadata": {},
   "outputs": [],
   "source": [
    "# explorar datos"
   ]
  },
  {
   "cell_type": "code",
   "execution_count": null,
   "id": "f7db298d",
   "metadata": {},
   "outputs": [],
   "source": []
  },
  {
   "cell_type": "code",
   "execution_count": null,
   "id": "8aafd270",
   "metadata": {},
   "outputs": [],
   "source": []
  },
  {
   "cell_type": "code",
   "execution_count": null,
   "id": "ac3441b4",
   "metadata": {},
   "outputs": [],
   "source": []
  },
  {
   "cell_type": "code",
   "execution_count": null,
   "id": "a38bb658",
   "metadata": {},
   "outputs": [],
   "source": []
  },
  {
   "cell_type": "code",
   "execution_count": null,
   "id": "bd6146c9",
   "metadata": {},
   "outputs": [],
   "source": []
  },
  {
   "cell_type": "markdown",
   "id": "3befaa21",
   "metadata": {},
   "source": [
    "### Conclusiones del Análisis Exploratorio de Datos"
   ]
  },
  {
   "cell_type": "markdown",
   "id": "93eda3f6",
   "metadata": {},
   "source": [
    "(Descripcion de conclusiones de analisis exploratorio de datos)"
   ]
  },
  {
   "cell_type": "markdown",
   "id": "513a2107",
   "metadata": {},
   "source": [
    "## Modelado y Aprendizaje Automático "
   ]
  },
  {
   "cell_type": "code",
   "execution_count": null,
   "id": "1f5980b1",
   "metadata": {},
   "outputs": [],
   "source": [
    "# importar paquetes"
   ]
  },
  {
   "cell_type": "code",
   "execution_count": null,
   "id": "7fd498df",
   "metadata": {},
   "outputs": [],
   "source": []
  },
  {
   "cell_type": "code",
   "execution_count": null,
   "id": "e70d5f23",
   "metadata": {},
   "outputs": [],
   "source": [
    "# ejecución y selección de modelo estadístico "
   ]
  },
  {
   "cell_type": "code",
   "execution_count": null,
   "id": "7428f510",
   "metadata": {},
   "outputs": [],
   "source": []
  },
  {
   "cell_type": "code",
   "execution_count": null,
   "id": "b239d39a",
   "metadata": {},
   "outputs": [],
   "source": [
    "# evaluación del modelo seleccionado"
   ]
  },
  {
   "cell_type": "code",
   "execution_count": null,
   "id": "ffee590c",
   "metadata": {},
   "outputs": [],
   "source": []
  },
  {
   "cell_type": "code",
   "execution_count": null,
   "id": "a7814424",
   "metadata": {},
   "outputs": [],
   "source": []
  },
  {
   "cell_type": "markdown",
   "id": "903e269c",
   "metadata": {},
   "source": [
    "## Conclusiones del Modelado"
   ]
  },
  {
   "cell_type": "markdown",
   "id": "ce1f7ded",
   "metadata": {},
   "source": [
    "(Describa por qué el modelo seleccionado es el mejor modelo para su proyecto)"
   ]
  },
  {
   "cell_type": "markdown",
   "id": "0135554b",
   "metadata": {},
   "source": [
    "## Puesta en producción "
   ]
  },
  {
   "cell_type": "markdown",
   "id": "12542e40",
   "metadata": {},
   "source": [
    "(Describa cómo va a realizar la puesta en produccion del proyecto, y por qué lo hará de esa forma)"
   ]
  },
  {
   "cell_type": "code",
   "execution_count": null,
   "id": "deda23ae",
   "metadata": {},
   "outputs": [],
   "source": []
  },
  {
   "cell_type": "code",
   "execution_count": null,
   "id": "b0e7c328",
   "metadata": {},
   "outputs": [],
   "source": []
  }
 ],
 "metadata": {
  "kernelspec": {
   "display_name": "Curso ML",
   "language": "python",
   "name": "cursoml"
  },
  "language_info": {
   "codemirror_mode": {
    "name": "ipython",
    "version": 3
   },
   "file_extension": ".py",
   "mimetype": "text/x-python",
   "name": "python",
   "nbconvert_exporter": "python",
   "pygments_lexer": "ipython3",
   "version": "3.9.18"
  },
  "varInspector": {
   "cols": {
    "lenName": 16,
    "lenType": 16,
    "lenVar": 40
   },
   "kernels_config": {
    "python": {
     "delete_cmd_postfix": "",
     "delete_cmd_prefix": "del ",
     "library": "var_list.py",
     "varRefreshCmd": "print(var_dic_list())"
    },
    "r": {
     "delete_cmd_postfix": ") ",
     "delete_cmd_prefix": "rm(",
     "library": "var_list.r",
     "varRefreshCmd": "cat(var_dic_list()) "
    }
   },
   "types_to_exclude": [
    "module",
    "function",
    "builtin_function_or_method",
    "instance",
    "_Feature"
   ],
   "window_display": false
  }
 },
 "nbformat": 4,
 "nbformat_minor": 5
}
